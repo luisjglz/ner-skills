{
 "cells": [
  {
   "cell_type": "markdown",
   "metadata": {},
   "source": [
    "## Clean jsonl"
   ]
  },
  {
   "cell_type": "code",
   "execution_count": 28,
   "metadata": {},
   "outputs": [
    {
     "name": "stdout",
     "output_type": "stream",
     "text": [
      "121 sentences with errors\n"
     ]
    }
   ],
   "source": [
    "import json\n",
    "\n",
    "i = 1\n",
    "\n",
    "with open('corpusSkills.jsonl', 'r') as input_file, open('corpusSkillsCleaned.jsonl', 'w') as output_file:\n",
    "    for line in input_file:\n",
    "      try:\n",
    "        data = json.loads(line)\n",
    "        output_file.write(json.dumps(data)+\"\\n\")\n",
    "      except:\n",
    "          i = i + 1\n",
    "\n",
    "print(f\"{i} sentences with errors\")\n"
   ]
  }
 ],
 "metadata": {
  "kernelspec": {
   "display_name": "Python 3 (ipykernel)",
   "language": "python",
   "name": "python3"
  },
  "language_info": {
   "codemirror_mode": {
    "name": "ipython",
    "version": 3
   },
   "file_extension": ".py",
   "mimetype": "text/x-python",
   "name": "python",
   "nbconvert_exporter": "python",
   "pygments_lexer": "ipython3",
   "version": "3.10.13"
  }
 },
 "nbformat": 4,
 "nbformat_minor": 4
}
